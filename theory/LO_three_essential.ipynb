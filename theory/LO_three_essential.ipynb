{
 "cells": [
  {
   "cell_type": "code",
   "execution_count": 1,
   "id": "21ed5391",
   "metadata": {},
   "outputs": [],
   "source": [
    "import sympy as sp\n",
    "import numpy as np\n",
    "from IPython.display import display"
   ]
  },
  {
   "cell_type": "code",
   "execution_count": 2,
   "id": "176b0056",
   "metadata": {},
   "outputs": [
    {
     "data": {
      "text/latex": [
       "$\\displaystyle \\left[\\begin{matrix}0 & - a_{3} & a_{2}\\\\a_{3} & 0 & - a_{1}\\\\- a_{2} & a_{1} & 0\\end{matrix}\\right]$"
      ],
      "text/plain": [
       "Matrix([\n",
       "[  0, -a3,  a2],\n",
       "[ a3,   0, -a1],\n",
       "[-a2,  a1,   0]])"
      ]
     },
     "metadata": {},
     "output_type": "display_data"
    }
   ],
   "source": [
    "def skew(x):\n",
    "    return sp.ImmutableDenseMatrix([[0, -x[2], x[1]],[x[2], 0, -x[0]], [-x[1], x[0], 0]])\n",
    "\n",
    "a1, a2, a3 = sp.symbols('a1, a2, a3')\n",
    "\n",
    "A = skew([a1, a2, a3])\n",
    "display(A)"
   ]
  },
  {
   "cell_type": "code",
   "execution_count": 10,
   "id": "82010d14",
   "metadata": {},
   "outputs": [
    {
     "data": {
      "text/latex": [
       "$\\displaystyle \\left[\\begin{array}{ccc}R_{0, 0} & R_{0, 1} & R_{0, 2}\\\\R_{1, 0} & R_{1, 1} & R_{1, 2}\\\\R_{2, 0} & R_{2, 1} & R_{2, 2}\\end{array}\\right]$"
      ],
      "text/plain": [
       "Matrix([\n",
       "[R[0, 0], R[0, 1], R[0, 2]],\n",
       "[R[1, 0], R[1, 1], R[1, 2]],\n",
       "[R[2, 0], R[2, 1], R[2, 2]]])"
      ]
     },
     "metadata": {},
     "output_type": "display_data"
    },
    {
     "data": {
      "text/latex": [
       "$\\displaystyle \\left[\\begin{array}{ccc}0 & 0 & 0\\\\- R_{2, 0} & - R_{2, 1} & - R_{2, 2}\\\\R_{1, 0} & R_{1, 1} & R_{1, 2}\\end{array}\\right]$"
      ],
      "text/plain": [
       "Matrix([\n",
       "[       0,        0,        0],\n",
       "[-R[2, 0], -R[2, 1], -R[2, 2]],\n",
       "[ R[1, 0],  R[1, 1],  R[1, 2]]])"
      ]
     },
     "metadata": {},
     "output_type": "display_data"
    }
   ],
   "source": [
    "e1x = skew([1, 0, 0])\n",
    "e2x = skew([0, 1, 0])\n",
    "e3x = skew([0, 0, 1])\n",
    "\n",
    "R = sp.ImmutableDenseMatrix(sp.MatrixSymbol('R', 3, 3))\n",
    "display(R)\n",
    "\n",
    "display(e1x * R)"
   ]
  },
  {
   "cell_type": "code",
   "execution_count": 11,
   "id": "ff5aa093",
   "metadata": {},
   "outputs": [
    {
     "data": {
      "text/latex": [
       "$\\displaystyle \\left[\\begin{array}{ccc}R_{2, 0} & R_{2, 1} & R_{2, 2}\\\\0 & 0 & 0\\\\- R_{0, 0} & - R_{0, 1} & - R_{0, 2}\\end{array}\\right]$"
      ],
      "text/plain": [
       "Matrix([\n",
       "[ R[2, 0],  R[2, 1],  R[2, 2]],\n",
       "[       0,        0,        0],\n",
       "[-R[0, 0], -R[0, 1], -R[0, 2]]])"
      ]
     },
     "metadata": {},
     "output_type": "display_data"
    },
    {
     "data": {
      "text/latex": [
       "$\\displaystyle \\left[\\begin{array}{ccc}- R_{1, 0} & - R_{1, 1} & - R_{1, 2}\\\\R_{0, 0} & R_{0, 1} & R_{0, 2}\\\\0 & 0 & 0\\end{array}\\right]$"
      ],
      "text/plain": [
       "Matrix([\n",
       "[-R[1, 0], -R[1, 1], -R[1, 2]],\n",
       "[ R[0, 0],  R[0, 1],  R[0, 2]],\n",
       "[       0,        0,        0]])"
      ]
     },
     "metadata": {},
     "output_type": "display_data"
    }
   ],
   "source": [
    "display(e2x * R)\n",
    "\n",
    "display(e3x * R)"
   ]
  },
  {
   "cell_type": "code",
   "execution_count": 14,
   "id": "e694c373",
   "metadata": {},
   "outputs": [
    {
     "data": {
      "text/latex": [
       "$\\displaystyle \\left[\\begin{matrix}0 & -1 & 0\\\\1 & 0 & 0\\\\0 & 0 & 0\\end{matrix}\\right]$"
      ],
      "text/plain": [
       "Matrix([\n",
       "[0, -1, 0],\n",
       "[1,  0, 0],\n",
       "[0,  0, 0]])"
      ]
     },
     "metadata": {},
     "output_type": "display_data"
    }
   ],
   "source": [
    "display(e3x)"
   ]
  },
  {
   "cell_type": "code",
   "execution_count": null,
   "id": "1d237df4",
   "metadata": {},
   "outputs": [],
   "source": []
  }
 ],
 "metadata": {
  "kernelspec": {
   "display_name": "Python 3 (ipykernel)",
   "language": "python",
   "name": "python3"
  },
  "language_info": {
   "codemirror_mode": {
    "name": "ipython",
    "version": 3
   },
   "file_extension": ".py",
   "mimetype": "text/x-python",
   "name": "python",
   "nbconvert_exporter": "python",
   "pygments_lexer": "ipython3",
   "version": "3.10.10"
  }
 },
 "nbformat": 4,
 "nbformat_minor": 5
}
